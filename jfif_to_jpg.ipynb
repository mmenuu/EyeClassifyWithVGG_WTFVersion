{
  "nbformat": 4,
  "nbformat_minor": 0,
  "metadata": {
    "colab": {
      "provenance": []
    },
    "kernelspec": {
      "name": "python3",
      "display_name": "Python 3"
    },
    "language_info": {
      "name": "python"
    }
  },
  "cells": [
    {
      "cell_type": "code",
      "source": [
        "from google.colab import drive\n",
        "drive.mount('/content/drive')"
      ],
      "metadata": {
        "id": "B2alGayf2_uq"
      },
      "execution_count": null,
      "outputs": []
    },
    {
      "cell_type": "code",
      "execution_count": null,
      "metadata": {
        "id": "i9-xV_6J27z8"
      },
      "outputs": [],
      "source": [
        "from PIL import Image\n",
        "import os\n",
        " \n",
        "# Get the list of all files and directories\n",
        "path = \"/content/drive/MyDrive/Eye Diseases Virus Dateset Vol 1/Conjunctivitis, Pink Eye\"\n",
        "save_path='/content/drive/MyDrivec/Eye Diseases Virus Dateset Vol 1/Conjunctivitis, Pink Eye.jpg'\n",
        "dir_list = os.listdir(path)\n",
        "n=0\n",
        "for i in dir_list:\n",
        "    im = Image.open(path+\"/\"+str(i))\n",
        "    rgb_im = im.convert(\"RGB\")\n",
        "    rgb_im.save(save_path+\"/\"+i[0:-4]+'jpg')\n",
        "    \n",
        "  \n",
        "\n"
      ]
    },
    {
      "cell_type": "code",
      "source": [],
      "metadata": {
        "id": "NBa6fD2l3myr"
      },
      "execution_count": null,
      "outputs": []
    }
  ]
}