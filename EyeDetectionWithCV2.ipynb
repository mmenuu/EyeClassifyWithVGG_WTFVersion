{
  "nbformat": 4,
  "nbformat_minor": 0,
  "metadata": {
    "colab": {
      "provenance": []
    },
    "kernelspec": {
      "name": "python3",
      "display_name": "Python 3"
    },
    "language_info": {
      "name": "python"
    }
  },
  "cells": [
    {
      "cell_type": "code",
      "source": [
        "from google.colab import drive\n",
        "drive.mount('/content/drive')"
      ],
      "metadata": {
        "id": "2xwlGHIctlMn"
      },
      "execution_count": null,
      "outputs": []
    },
    {
      "cell_type": "code",
      "source": [
        "from PIL import Image\n",
        "import os\n",
        "import numpy as np\n",
        "import cv2\n",
        "from google.colab.patches import cv2_imshow"
      ],
      "metadata": {
        "id": "Lntc2-QHtqQl"
      },
      "execution_count": null,
      "outputs": []
    },
    {
      "cell_type": "code",
      "execution_count": 1,
      "metadata": {
        "colab": {
          "base_uri": "https://localhost:8080/",
          "height": 253
        },
        "id": "kY0fIPSbtaNY",
        "outputId": "bba68412-aa95-4e57-de17-49a31a8a03db"
      },
      "outputs": [
        {
          "output_type": "error",
          "ename": "NameError",
          "evalue": "ignored",
          "traceback": [
            "\u001b[0;31m---------------------------------------------------------------------------\u001b[0m",
            "\u001b[0;31mNameError\u001b[0m                                 Traceback (most recent call last)",
            "\u001b[0;32m<ipython-input-1-66b546a77c6b>\u001b[0m in \u001b[0;36m<module>\u001b[0;34m\u001b[0m\n\u001b[1;32m      1\u001b[0m \u001b[0mpath\u001b[0m \u001b[0;34m=\u001b[0m \u001b[0;34m\"/content/drive/MyDrive/Superai2/Live Hac/Eye Diseases Virus Dateset Vol 1/JPG/Normal/train_2\"\u001b[0m\u001b[0;34m\u001b[0m\u001b[0;34m\u001b[0m\u001b[0m\n\u001b[1;32m      2\u001b[0m \u001b[0msave_path\u001b[0m \u001b[0;34m=\u001b[0m \u001b[0;34m'/content/drive/MyDrive/Superai2/Live Hac/Eye Diseases Virus Dateset Vol 1/JPG2/eye_det/Normal-Crop-Eye'\u001b[0m \u001b[0;31m#'/content/drive/MyDrive/Superai2/Live Hac/Eye Diseases Virus Dateset Vol 1/JPG2/eye_det/Normal eyes_det'\u001b[0m\u001b[0;34m\u001b[0m\u001b[0;34m\u001b[0m\u001b[0m\n\u001b[0;32m----> 3\u001b[0;31m \u001b[0mdir_list\u001b[0m \u001b[0;34m=\u001b[0m \u001b[0mos\u001b[0m\u001b[0;34m.\u001b[0m\u001b[0mlistdir\u001b[0m\u001b[0;34m(\u001b[0m\u001b[0mpath\u001b[0m\u001b[0;34m)\u001b[0m\u001b[0;34m\u001b[0m\u001b[0;34m\u001b[0m\u001b[0m\n\u001b[0m\u001b[1;32m      4\u001b[0m \u001b[0msave_dir_list\u001b[0m \u001b[0;34m=\u001b[0m \u001b[0mos\u001b[0m\u001b[0;34m.\u001b[0m\u001b[0mlistdir\u001b[0m\u001b[0;34m(\u001b[0m\u001b[0msave_path\u001b[0m\u001b[0;34m)\u001b[0m\u001b[0;34m\u001b[0m\u001b[0;34m\u001b[0m\u001b[0m\n\u001b[1;32m      5\u001b[0m \u001b[0;31m# face_cascade = cv2.CascadeClassifier(cv2.data.haarcascades + 'haarcascade_frontalface_default.xml')\u001b[0m\u001b[0;34m\u001b[0m\u001b[0;34m\u001b[0m\u001b[0;34m\u001b[0m\u001b[0m\n",
            "\u001b[0;31mNameError\u001b[0m: name 'os' is not defined"
          ]
        }
      ],
      "source": [
        "path = \"/content/drive/MyDrive/Superai2/Live Hac/Eye Diseases Virus Dateset Vol 1/JPG/Normal/train_2\"\n",
        "save_path = '/content/drive/MyDrive/Superai2/Live Hac/Eye Diseases Virus Dateset Vol 1/JPG2/eye_det/Normal-Crop-Eye' #'/content/drive/MyDrive/Superai2/Live Hac/Eye Diseases Virus Dateset Vol 1/JPG2/eye_det/Normal eyes_det'\n",
        "dir_list = os.listdir(path)\n",
        "save_dir_list = os.listdir(save_path)\n",
        "# face_cascade = cv2.CascadeClassifier(cv2.data.haarcascades + 'haarcascade_frontalface_default.xml')\n",
        "eye_cascade = cv2.CascadeClassifier(cv2.data.haarcascades + 'haarcascade_eye.xml')\n",
        "n=0\n",
        "for i in dir_list:\n",
        "  # if n>650 and n<1400:\n",
        "    frame = cv2.imread(path+'/'+i)\n",
        "    eyes = eye_cascade.detectMultiScale(frame,1.3,5)\n",
        "    for (x,y,w,h) in eyes:\n",
        "      img=frame[y:y+h,x:x+w]\n",
        "    \n",
        "      # print(img)\n",
        "      #img = frame.crop(box)\n",
        "      # cv2.rectangle(frame,(x,y),(x+w,y+h),(0,255,0),2)\n",
        "\n",
        "      cv2.imwrite(save_path+'/'+i,img)\n",
        "      # cv2_imshow(img)\n",
        "      # n+=1"
      ]
    },
    {
      "cell_type": "code",
      "source": [
        "save_path = '/content/drive/MyDrive/Superai2/Live Hac/Eye Diseases Virus Dateset Vol 1/JPG2/eye_det/Normal-Crop-Eye' #'/content/drive/MyDrive/Superai2/Live Hac/Eye Diseases Virus Dateset Vol 1/JPG2/eye_det/Normal eyes_det'\n",
        "\n",
        "save_dir_list = os.listdir(save_path)\n",
        "n=0\n",
        "for i in save_dir_list:\n",
        "  n+=1\n",
        "print(n)"
      ],
      "metadata": {
        "id": "HvIEna4vtcP8"
      },
      "execution_count": null,
      "outputs": []
    },
    {
      "cell_type": "code",
      "source": [
        "!unzip \"/content/Normal-Crop-Eye.zip\" -d \"/content/drive/MyDrive/Superai2/Live Hac/Eye Diseases Virus Dateset Vol 1/JPG2/eye_det\""
      ],
      "metadata": {
        "id": "ujHB1kA_tkV9"
      },
      "execution_count": null,
      "outputs": []
    }
  ]
}